{
 "cells": [
  {
   "cell_type": "code",
   "execution_count": 1,
   "id": "775b4a07-6a0f-47cd-ba7e-9a66aeba11d0",
   "metadata": {},
   "outputs": [],
   "source": [
    "import random\n",
    "import numpy as np\n",
    "import math"
   ]
  },
  {
   "cell_type": "code",
   "execution_count": 2,
   "id": "4ac2cfac-0f63-49a6-9756-773b312533b8",
   "metadata": {},
   "outputs": [
    {
     "data": {
      "text/plain": [
       "18.25"
      ]
     },
     "execution_count": 2,
     "metadata": {},
     "output_type": "execute_result"
    }
   ],
   "source": [
    "load = [18, 5, 5, 5, 5, 1, 7, 3, 4, 22, 24, 25, 26, 27, 28, 27, 23, 21, 32, 27, 34, 24, 25, 20]\n",
    "sum(load)/len(load)"
   ]
  },
  {
   "cell_type": "code",
   "execution_count": 3,
   "id": "f4035c0e-98c7-4b9b-b7fc-b37fe7e6e8f2",
   "metadata": {},
   "outputs": [],
   "source": [
    "wind = [random.randint(2,15) for _ in range(24)]\n",
    "#wind"
   ]
  },
  {
   "cell_type": "code",
   "execution_count": 19,
   "id": "3ff1d2d4-d22c-4b6b-9914-4dd988743ec2",
   "metadata": {},
   "outputs": [],
   "source": [
    "# Generate 12 points between 0 and pi (half of the sine wave)\n",
    "x = np.linspace(0, np.pi, 12)\n",
    "\n",
    "# Apply the sine function to get a half-sinusoidal distribution\n",
    "sinusoidal_values = np.sin(x)\n",
    "\n",
    "# Normalize the values to a specific range if needed (optional)\n",
    "# For example, scaling between 0 and 1\n",
    "normalized_values = sinusoidal_values / np.max(sinusoidal_values)\n",
    "\n",
    "# Peak Solar power is 20KW\n",
    "solar = np.round(normalized_values * 20)\n",
    "solar = [0] * 6 + solar.tolist() + [0] * 6\n",
    "#solar\n",
    "\n",
    "regenerate = [a + b for a, b in zip(wind, solar)]"
   ]
  },
  {
   "cell_type": "code",
   "execution_count": 20,
   "id": "dd9fd2f8-b216-4f5e-925e-2efc60f6cd98",
   "metadata": {},
   "outputs": [
    {
     "name": "stdout",
     "output_type": "stream",
     "text": [
      "Hourly load for a day is: [18, 5, 5, 5, 5, 1, 7, 3, 4, 22, 24, 25, 26, 27, 28, 27, 23, 21, 32, 27, 34, 24, 25, 20]\n",
      "Hourly regenerative power available is: [12, 9, 9, 14, 5, 11, 11.0, 9.0, 25.0, 20.0, 26.0, 29.0, 24.0, 20.0, 19.0, 25.0, 8.0, 11.0, 6, 13, 15, 14, 7, 3]\n"
     ]
    }
   ],
   "source": [
    "print(f'Hourly regenerative power available is: {regenerate}')"
   ]
  },
  {
   "cell_type": "code",
   "execution_count": 54,
   "id": "bb6fdf02-b23f-407c-88d5-3d11b026560d",
   "metadata": {},
   "outputs": [
    {
     "name": "stdout",
     "output_type": "stream",
     "text": [
      "Hourly load for a day is: [18, 5, 5, 5, 5, 1, 7, 3, 4, 22, 24, 25, 26, 27, 28, 27, 23, 21, 32, 27, 34, 24, 25, 20]\n",
      "Available green power in microgrid is: [18, 15, 15, 20, 11, 17, 17.0, 15.0, 31.0, 26.0, 32.0, 35.0, 30.0, 26.0, 25.0, 31.0, 14.0, 17.0, 12, 19, 21, 20, 13, 9]\n",
      "Deficit in microgrid is: [0, -10, -10, -15, -6, -16, -10.0, -12.0, -27.0, -4.0, -8.0, -10.0, -4.0, 1.0, 3.0, -4.0, 9.0, 4.0, 20, 8, 13, 4, 12, 11]\n",
      "The battery capacity required is: 132.0 kWh\n",
      "[51.0, 61.0, 71.0, 86.0, 92.0, 108.0, 118.0, 130.0, 157.0, 161.0, 169.0, 179.0, 183.0, 182.0, 179.0, 183.0, 174.0, 170.0, 150.0, 142.0, 129.0, 125.0, 113.0, 102.0]\n"
     ]
    }
   ],
   "source": [
    "print(f'Hourly load for a day is: {load}')\n",
    "# Base load generator\n",
    "nuclear = 6\n",
    "\n",
    "# Total green power generation available as sum of wind, solar, nuclear\n",
    "available_supply = [green + nuclear for green in regenerate]\n",
    "print(f'Available green power in microgrid is: {available_supply}')\n",
    "\n",
    "# Power deficit is load minus available power\n",
    "deficit_power = [a - b for a,b in zip(load, available_supply)]\n",
    "print(f'Deficit in microgrid is: {deficit_power}')\n",
    "\n",
    "# Initialize battery requirement\n",
    "soc = sum(available_supply) - sum(load)\n",
    "battery_capacity = 0\n",
    "#cap = []\n",
    "\n",
    "for reqd_power in deficit_power:\n",
    "    if reqd_power < 0:\n",
    "        soc -= reqd_power\n",
    "    else:  # Charge the battery (excess in power)\n",
    "        soc = max(soc - reqd_power, 0)  # Ensure no negative charge\n",
    "    # Track the maximum battery capacity needed\n",
    "    battery_capacity = max(battery_capacity, soc)\n",
    "    #cap.append(soc)\n",
    "\n",
    "battery_capacity -= sum(available_supply) - sum(load)\n",
    "# Output the maximum battery capacity required\n",
    "print(f'The battery capacity required is: {battery_capacity} kWh')\n",
    "#print(cap)"
   ]
  },
  {
   "cell_type": "code",
   "execution_count": 46,
   "id": "50561e55-5399-4417-8b15-525e96d71e17",
   "metadata": {},
   "outputs": [
    {
     "name": "stdout",
     "output_type": "stream",
     "text": [
      "Total load in a day: sum(load)\n",
      "Total generation in a day: sum(available_supply)\n",
      "Total of power not consumed: sum(wasted_power)\n"
     ]
    }
   ],
   "source": [
    "print(f'Total load in a day: sum(load)')\n",
    "print(f'Total generation in a day: sum(available_supply)')\n",
    "print(f'Total of power not consumed: sum(wasted_power)')"
   ]
  },
  {
   "cell_type": "code",
   "execution_count": 59,
   "id": "945f750f-1ad9-430a-88a1-47843170b6d2",
   "metadata": {},
   "outputs": [
    {
     "name": "stdout",
     "output_type": "stream",
     "text": [
      "Required Battery capacity: 132.0\n",
      "State of Battery Charge: [0.39, 0.39, 0.46, 0.54, 0.65, 0.7, 0.82, 0.89, 0.98, 1.0, 1.0, 1.0, 1.0, 1.0, 0.99, 0.97, 1.0, 0.93, 0.9, 0.75, 0.69, 0.59, 0.56, 0.47, 0.39]\n",
      "Energy Wasted: [25.0, 4.0, 8.0, 10.0, 4.0, 0, 0, 0.0, 0, 0, 0, 0, 0, 0, 0, 0]\n"
     ]
    }
   ],
   "source": [
    "# Introduce Storage to cater for deficit\n",
    "print(f'Required Battery capacity: {battery_capacity}')\n",
    "battery_charged = sum(available_supply) - sum(load)\n",
    "soc = [round(battery_charged / battery_capacity, 2)]\n",
    "\n",
    "wasted_power = []\n",
    "\n",
    "for deficit in deficit_power:\n",
    "    if deficit > 0:\n",
    "        battery_charged -= deficit\n",
    "        wasted_power.append(0)\n",
    "    else:\n",
    "        battery_charged -= deficit\n",
    "        if battery_charged >= battery_capacity:\n",
    "            wasted_power.append(battery_charged - battery_capacity)\n",
    "            battery_charged = battery_capacity\n",
    "        \n",
    "    soc.append(round(battery_charged / battery_capacity, 2))\n",
    "\n",
    "print(f'State of Battery Charge: {soc}')\n",
    "print(f'Energy Wasted: {wasted_power}')"
   ]
  },
  {
   "cell_type": "code",
   "execution_count": 61,
   "id": "4c76bd63-388e-42c5-bf82-c7895aa226d8",
   "metadata": {},
   "outputs": [
    {
     "name": "stdout",
     "output_type": "stream",
     "text": [
      "345.0\n",
      "438\n",
      "51.0\n"
     ]
    }
   ],
   "source": [
    "print(sum(regenerate))\n",
    "print(sum(load))\n",
    "print(sum(wasted_power))"
   ]
  },
  {
   "cell_type": "code",
   "execution_count": null,
   "id": "5c6fb0c5-6af5-448f-a1ea-b688813c1cc8",
   "metadata": {},
   "outputs": [],
   "source": []
  },
  {
   "cell_type": "code",
   "execution_count": null,
   "id": "cd019a4e-5ad3-4baa-bb66-8ec89fa6a299",
   "metadata": {},
   "outputs": [],
   "source": []
  },
  {
   "cell_type": "code",
   "execution_count": null,
   "id": "15d7860b-aa54-4f5f-8fca-b522c2b3be8e",
   "metadata": {},
   "outputs": [],
   "source": []
  },
  {
   "cell_type": "code",
   "execution_count": null,
   "id": "af0fd77e-556d-45d5-a3de-a9c11a3c99ca",
   "metadata": {},
   "outputs": [],
   "source": []
  },
  {
   "cell_type": "code",
   "execution_count": null,
   "id": "fe1d9775-4260-4240-a524-fecada2b8513",
   "metadata": {},
   "outputs": [],
   "source": []
  },
  {
   "cell_type": "code",
   "execution_count": null,
   "id": "dc6610be-6c36-4454-b93a-8560ec16223c",
   "metadata": {},
   "outputs": [],
   "source": []
  },
  {
   "cell_type": "code",
   "execution_count": 6,
   "id": "eff55fcd-4efc-44b8-99a1-c54d283822e2",
   "metadata": {},
   "outputs": [
    {
     "name": "stdout",
     "output_type": "stream",
     "text": [
      "417.0\n",
      "438\n"
     ]
    }
   ],
   "source": [
    "print(sum(regenerate))\n",
    "print(sum(load))"
   ]
  },
  {
   "cell_type": "code",
   "execution_count": 7,
   "id": "398f65fe-89b9-446d-b278-fdaa61fbe8d6",
   "metadata": {},
   "outputs": [
    {
     "name": "stdout",
     "output_type": "stream",
     "text": [
      "[-6, 4, 4, 9, 0, 10, 4.0, 9.0, 26.0, 6.0, 12.0, 14.0, 8.0, 3.0, -1.0, 3.0, -12.0, -10.0, -26, -14, -19, -10, -18, -17]\n",
      "The battery capacity required is: 111.0 kWh\n"
     ]
    }
   ],
   "source": [
    "# Calculate net load (Load - Regenerative Power Available)\n",
    "net_load = [a - b for a, b in zip(regenerate,load)]\n",
    "print(net_load)\n",
    "\n",
    "# Initialize battery requirement\n",
    "soc = 0\n",
    "battery_capacity = 0\n",
    "\n",
    "for reqd_power in net_load:\n",
    "    if reqd_power > 0:\n",
    "        soc += reqd_power\n",
    "    else:  # Charge the battery (excess in power)\n",
    "        soc = max(soc + reqd_power, 0)  # Ensure no negative charge\n",
    "    # Track the maximum battery capacity needed\n",
    "    battery_capacity = max(battery_capacity, soc)\n",
    "\n",
    "# Output the maximum battery capacity required\n",
    "print(f'The battery capacity required is: {battery_capacity} kWh')\n"
   ]
  },
  {
   "cell_type": "code",
   "execution_count": 9,
   "id": "44225d22-bd4a-41e8-8ce9-8addd4b47aa5",
   "metadata": {},
   "outputs": [
    {
     "name": "stdout",
     "output_type": "stream",
     "text": [
      "The maximum net load is: 26.0 units\n"
     ]
    }
   ],
   "source": [
    "import numpy as np\n",
    "\n",
    "# Hourly load and regenerative power data\n",
    "hourly_load = np.array(load)\n",
    "regenerative_power = np.array(regenerate)\n",
    "\n",
    "# Calculate net load\n",
    "net_load = np.maximum(hourly_load - regenerative_power, 0)\n",
    "\n",
    "# Determine the maximum net load\n",
    "max_net_load = np.max(net_load)\n",
    "\n",
    "print(f\"The maximum net load is: {max_net_load} units\")\n"
   ]
  },
  {
   "cell_type": "code",
   "execution_count": 10,
   "id": "1b65ad9a-dc3d-4949-99c9-eccc31add321",
   "metadata": {},
   "outputs": [
    {
     "name": "stdout",
     "output_type": "stream",
     "text": [
      "Total energy deficit for the day: 136.0 kWh\n",
      "Required battery capacity: 136.0 kWh\n"
     ]
    }
   ],
   "source": [
    "import numpy as np\n",
    "\n",
    "# Hourly load and regenerative power data\n",
    "hourly_load = np.array([18, 5, 5, 5, 5, 1, 7, 3, 4, 22, 24, 25, 26, 27, 28, 27, 23, 21, 32, 27, 34, 24, 25, 20])\n",
    "regenerative_power = np.array([7, 10, 2, 2, 10, 15, 6.0, 37.0, 66.0, 86.0, 102.0, 102.0, 102.0, 105.0, 88.0, 62.0, 40.0, 7.0, 8, 15, 13, 8, 2, 12])\n",
    "\n",
    "# Base load generator capacity (in kW)\n",
    "base_generator_capacity = 10  # kW\n",
    "\n",
    "# Calculate energy deficit\n",
    "energy_deficit = np.maximum(hourly_load - regenerative_power, 0)\n",
    "\n",
    "# Calculate total energy deficit (in kWh)\n",
    "total_energy_deficit = np.sum(energy_deficit)  # Since each value is in kW and the duration is 1 hour\n",
    "\n",
    "print(f\"Total energy deficit for the day: {total_energy_deficit} kWh\")\n",
    "\n",
    "# Optional: You can also calculate the battery capacity considering the generator capacity\n",
    "battery_capacity = total_energy_deficit  # Assuming the battery needs to cover the total deficit\n",
    "print(f\"Required battery capacity: {battery_capacity} kWh\")\n"
   ]
  },
  {
   "cell_type": "code",
   "execution_count": 11,
   "id": "2bcee856-6fb1-4381-85bf-ea735b182879",
   "metadata": {},
   "outputs": [
    {
     "name": "stdout",
     "output_type": "stream",
     "text": [
      "Total remaining energy deficit for the day: 51.0 kWh\n",
      "Required battery capacity: 51.0 kWh\n"
     ]
    }
   ],
   "source": [
    "import numpy as np\n",
    "\n",
    "# Hourly load and regenerative power data\n",
    "hourly_load = np.array([18, 5, 5, 5, 5, 1, 7, 3, 4, 22, 24, 25, 26, 27, 28, 27, 23, 21, 32, 27, 34, 24, 25, 20])\n",
    "regenerative_power = np.array([7, 10, 2, 2, 10, 15, 6.0, 37.0, 66.0, 86.0, 102.0, 102.0, 102.0, 105.0, 88.0, 62.0, 40.0, 7.0, 8, 15, 13, 8, 2, 12])\n",
    "\n",
    "# Base load generator capacities\n",
    "min_generator_output = 6  # kW\n",
    "max_generator_output = 10  # kW\n",
    "\n",
    "# Calculate energy deficit\n",
    "energy_deficit = np.maximum(hourly_load - regenerative_power, 0)\n",
    "\n",
    "# Calculate the energy contribution of the generator\n",
    "generator_contribution = np.minimum(max_generator_output, energy_deficit)\n",
    "\n",
    "# Adjust the generator output to cover the deficit within its range\n",
    "remaining_deficit = np.maximum(energy_deficit - generator_contribution, 0)\n",
    "\n",
    "# Calculate total remaining energy deficit (in kWh)\n",
    "total_remaining_deficit = np.sum(remaining_deficit)  # Since each value is in kW and the duration is 1 hour\n",
    "\n",
    "print(f\"Total remaining energy deficit for the day: {total_remaining_deficit} kWh\")\n",
    "\n",
    "# Battery capacity is the remaining deficit that needs to be covered\n",
    "battery_capacity = total_remaining_deficit\n",
    "print(f\"Required battery capacity: {battery_capacity} kWh\")\n"
   ]
  },
  {
   "cell_type": "code",
   "execution_count": 12,
   "id": "aa46a9a4-2685-434b-9d1d-1745d3548487",
   "metadata": {},
   "outputs": [
    {
     "name": "stdout",
     "output_type": "stream",
     "text": [
      "Total remaining energy deficit for the day: 51.0 kWh\n",
      "Required battery capacity: 51.0 kWh\n"
     ]
    }
   ],
   "source": [
    "import numpy as np\n",
    "\n",
    "# Hourly load and regenerative power data\n",
    "hourly_load = np.array([18, 5, 5, 5, 5, 1, 7, 3, 4, 22, 24, 25, 26, 27, 28, 27, 23, 21, 32, 27, 34, 24, 25, 20])\n",
    "regenerative_power = np.array([7, 10, 2, 2, 10, 15, 6.0, 37.0, 66.0, 86.0, 102.0, 102.0, 102.0, 105.0, 88.0, 62.0, 40.0, 7.0, 8, 15, 13, 8, 2, 12])\n",
    "\n",
    "# Base load generator capacities\n",
    "min_generator_output = 6  # kW\n",
    "max_generator_output = 10  # kW\n",
    "\n",
    "# Calculate energy deficit\n",
    "energy_deficit = np.maximum(hourly_load - regenerative_power, 0)\n",
    "\n",
    "# Calculate the generator's actual contribution for each hour\n",
    "generator_contribution = np.minimum(max_generator_output, energy_deficit)\n",
    "# Adjust generator output within its range\n",
    "generator_contribution = np.maximum(generator_contribution, min_generator_output)\n",
    "\n",
    "# Calculate the remaining deficit after accounting for the generator's contribution\n",
    "remaining_deficit = np.maximum(energy_deficit - generator_contribution, 0)\n",
    "\n",
    "# Calculate total remaining energy deficit (in kWh)\n",
    "total_remaining_deficit = np.sum(remaining_deficit)  # Since each value is in kW and the duration is 1 hour\n",
    "\n",
    "print(f\"Total remaining energy deficit for the day: {total_remaining_deficit} kWh\")\n",
    "\n",
    "# Battery capacity is the remaining deficit that needs to be covered\n",
    "battery_capacity = total_remaining_deficit\n",
    "print(f\"Required battery capacity: {battery_capacity} kWh\")\n"
   ]
  },
  {
   "cell_type": "code",
   "execution_count": null,
   "id": "9118d9b2-3077-41b7-bfb1-77eb8309a6c5",
   "metadata": {},
   "outputs": [],
   "source": []
  }
 ],
 "metadata": {
  "kernelspec": {
   "display_name": "Python 3 (ipykernel)",
   "language": "python",
   "name": "python3"
  },
  "language_info": {
   "codemirror_mode": {
    "name": "ipython",
    "version": 3
   },
   "file_extension": ".py",
   "mimetype": "text/x-python",
   "name": "python",
   "nbconvert_exporter": "python",
   "pygments_lexer": "ipython3",
   "version": "3.11.4"
  }
 },
 "nbformat": 4,
 "nbformat_minor": 5
}
